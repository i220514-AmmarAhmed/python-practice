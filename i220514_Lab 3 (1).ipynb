{
 "cells": [
  {
   "cell_type": "markdown",
   "metadata": {
    "id": "DR3RvooloecS"
   },
   "source": [
    "# Lab Task 01"
   ]
  },
  {
   "cell_type": "markdown",
   "metadata": {
    "id": "Oi-yFvItoWzc"
   },
   "source": [
    "Reshape a 1D NumPy array into a 2D array with dimensions (3, 4).\n",
    "\n",
    "Concatenate two NumPy arrays horizontally and vertically."
   ]
  },
  {
   "cell_type": "code",
   "execution_count": 1,
   "metadata": {
    "id": "c379PMYOobDK"
   },
   "outputs": [
    {
     "name": "stdout",
     "output_type": "stream",
     "text": [
      "Reshaped 2D array 1:\n",
      "[[ 1  2  3  4]\n",
      " [ 5  6  7  8]\n",
      " [ 9 10 11 12]]\n",
      "\n",
      "Reshaped 2D array 2:\n",
      "[[13 14 15 16]\n",
      " [17 18 19 20]\n",
      " [21 22 23 24]]\n",
      "\n",
      "Concatenated horizontally:\n",
      "[[ 1  2  3  4 13 14 15 16]\n",
      " [ 5  6  7  8 17 18 19 20]\n",
      " [ 9 10 11 12 21 22 23 24]]\n",
      "\n",
      "Concatenated vertically:\n",
      "[[ 1  2  3  4]\n",
      " [ 5  6  7  8]\n",
      " [ 9 10 11 12]\n",
      " [13 14 15 16]\n",
      " [17 18 19 20]\n",
      " [21 22 23 24]]\n"
     ]
    }
   ],
   "source": [
    "#code here\n",
    "import numpy as np\n",
    "array_1d = np.array([1, 2, 3, 4, 5, 6, 7, 8, 9, 10, 11, 12])\n",
    "array_2d = array_1d.reshape(3, 4)\n",
    "Array_1d = np.array([13, 14, 15, 16, 17, 18, 19, 20, 21, 22, 23, 24])\n",
    "Array_2d = Array_1d.reshape(3, 4)\n",
    "concatenated_horizontal = np.concatenate((array_2d, Array_2d), axis=1)\n",
    "concatenated_vertical = np.concatenate((array_2d, Array_2d), axis=0)\n",
    "\n",
    "print(\"Reshaped 2D array 1:\")\n",
    "print(array_2d)\n",
    "print(\"\\nReshaped 2D array 2:\")\n",
    "print(Array_2d)\n",
    "print(\"\\nConcatenated horizontally:\")\n",
    "print(concatenated_horizontal)\n",
    "print(\"\\nConcatenated vertically:\")\n",
    "print(concatenated_vertical)"
   ]
  },
  {
   "cell_type": "markdown",
   "metadata": {
    "id": "Dv9DtQ3jp6mq"
   },
   "source": [
    "# Lab Task 02"
   ]
  },
  {
   "cell_type": "markdown",
   "metadata": {
    "id": "2i6-zm_1ZAdn"
   },
   "source": [
    "\n",
    "## Email Classification\n",
    "Develope a tool which will classify an email.\n",
    "\n",
    "### Tasks:\n",
    "* Create a function classify_emails that takes a list of emails as an argument.\n",
    "* Inside the function, categorize emails into \"Important,\" \"Promotions,\" and \"Spam\" based on keywords and content analysis.\n",
    "* Loop through the emails and identify keywords to determine their category.\n",
    "* If an email contains keywords indicating importance, assign it as \"Important.\"\n",
    "* If an email contains keywords related to promotions or deals, assign it as \"Promotions.\"\n",
    "* If an email is suspected to be spam based on certain keywords or patterns, assign it as \"Spam.\"\n",
    "* Return three lists of emails for each category.\n",
    "* Print the lists."
   ]
  },
  {
   "cell_type": "code",
   "execution_count": 2,
   "metadata": {
    "id": "SnCGPkq-o84Z"
   },
   "outputs": [
    {
     "name": "stdout",
     "output_type": "stream",
     "text": [
      "Important Emails:  ['Hey, urgent meeting at 3 PM today!', 'Important notice: Action required for project deadline.', 'Critical: Immediate action needed for system update.']\n",
      "\n",
      "Promotions Emails:  ['Special offer! Get 20% off on your next purchase!', 'Limited-time sale! Grab your favorite items now.', 'Now save upto 70% dicount on daraz', 'sale your AC at a reasonable price']\n",
      "\n",
      "Spam Emails:  ['Win a free vacation! Click here for details.']\n"
     ]
    }
   ],
   "source": [
    "#code here\n",
    "def classify_emails(emails):\n",
    "    important_keywords = [\"urgent\", \"important\", \"action required\", \"deadline\", 'note','action']\n",
    "    promotions_keywords = [\"sale\", \"discount\", \"deal\", \"offer\", \"save upto\"]\n",
    "    spam_keywords = [\"lottery\", \"sale your AC\", \"free\", \"claim your prize\" , \"prize\"]\n",
    "\n",
    "    important_emails = []\n",
    "    promotions_emails = []\n",
    "    spam_emails = []\n",
    "\n",
    "    for email in emails:\n",
    "        lower_case_email = email.lower()\n",
    "#appending lists of respective emails\n",
    "        if any(keyword in lower_case_email for keyword in important_keywords):\n",
    "            important_emails.append(email)\n",
    "        elif any(keyword in lower_case_email for keyword in promotions_keywords):\n",
    "            promotions_emails.append(email)\n",
    "        elif any(keyword in lower_case_email for keyword in spam_keywords):\n",
    "            spam_emails.append(email)\n",
    "\n",
    "    return important_emails, promotions_emails, spam_emails\n",
    "\n",
    "\n",
    "Example_Emails = [\n",
    "    \"Hey, urgent meeting at 3 PM today!\",\n",
    "    \"Special offer! Get 20% off on your next purchase!\",\n",
    "    \"Verify your account to secure your data.\",\n",
    "    \"Important notice: Action required for project deadline.\",\n",
    "    \"Limited-time sale! Grab your favorite items now.\",\n",
    "    \"Win a free vacation! Click here for details.\",\n",
    "    \"Critical: Immediate action needed for system update.\",\n",
    "    \"Now save upto 70% dicount on daraz\",\n",
    "    \"sale your AC at a reasonable price\" \n",
    "]\n",
    "\n",
    "important, promotions, spam = classify_emails(Example_Emails)\n",
    "\n",
    "print(\"Important Emails: \",important)\n",
    "\n",
    "print(\"\\nPromotions Emails: \",promotions)\n",
    "\n",
    "\n",
    "print(\"\\nSpam Emails: \",spam)"
   ]
  },
  {
   "cell_type": "markdown",
   "metadata": {
    "id": "amtV-GLWpCC7"
   },
   "source": [
    "# Lab Task 03"
   ]
  },
  {
   "cell_type": "markdown",
   "metadata": {
    "id": "M2Zg-XsUpC72"
   },
   "source": [
    "## English-Spanish Dictionary\n",
    "You are creating a basic English-Spanish dictionary that allows users to look up English words and find their Spanish translations.\n",
    "\n",
    "\n",
    "### Tasks\n",
    "* Create a dictionary where English words are keys and their Spanish translations are values.\n",
    "* Ask the user to input an English word.\n",
    "* Check if the word exists in the dictionary.\n",
    "* If the word exists, print its Spanish translation.\n",
    "* If the word does not exist, inform the user that the translation is not available.\n",
    "* Implement a loop that allows the user to keep looking up words until they choose to exit.\n"
   ]
  },
  {
   "cell_type": "code",
   "execution_count": 4,
   "metadata": {
    "id": "7RKtYbMZpJdh"
   },
   "outputs": [
    {
     "name": "stdin",
     "output_type": "stream",
     "text": [
      "Enter an English word (or type 'exit' to quit):  sir\n"
     ]
    },
    {
     "name": "stdout",
     "output_type": "stream",
     "text": [
      "Spanish translation: Señor\n",
      "\n"
     ]
    },
    {
     "name": "stdin",
     "output_type": "stream",
     "text": [
      "Enter an English word (or type 'exit' to quit):  hello\n"
     ]
    },
    {
     "name": "stdout",
     "output_type": "stream",
     "text": [
      "Spanish translation: hola\n",
      "\n"
     ]
    },
    {
     "name": "stdin",
     "output_type": "stream",
     "text": [
      "Enter an English word (or type 'exit' to quit):  a+\n"
     ]
    },
    {
     "name": "stdout",
     "output_type": "stream",
     "text": [
      "Spanish translation: Translation not available\n",
      "\n"
     ]
    },
    {
     "name": "stdin",
     "output_type": "stream",
     "text": [
      "Enter an English word (or type 'exit' to quit):  exit\n"
     ]
    },
    {
     "name": "stdout",
     "output_type": "stream",
     "text": [
      "OK Thankyou\n"
     ]
    }
   ],
   "source": [
    "#code here\n",
    "Mydictionary = {\n",
    "    'sir':'Señor',\n",
    "    'give': 'Dar',\n",
    "    'me': 'python',\n",
    "    'a+ grade':'Grado A+',\n",
    "    'please': 'por favor',\n",
    "    \"hello\": \"hola\",\n",
    "    \"goodbye\": \"adiós\",\n",
    "    \"thank you\": \"gracias\",\n",
    "}\n",
    "while True:\n",
    "    user_input = input(\"Enter an English word (or type 'exit' to quit): \").lower()\n",
    "\n",
    "    if user_input == 'exit':\n",
    "        print(\"OK Thankyou\")\n",
    "        break\n",
    "\n",
    "    translation = Mydictionary.get(user_input, \"Translation not available\")\n",
    "    print(f\"Spanish translation: {translation}\\n\")\n"
   ]
  },
  {
   "cell_type": "markdown",
   "metadata": {
    "id": "h_8wOMWitspv"
   },
   "source": [
    "# Lab Task 04"
   ]
  },
  {
   "cell_type": "markdown",
   "metadata": {
    "id": "Qq4VH1Jkts32"
   },
   "source": [
    "dataset link : https://raw.githubusercontent.com/TirendazAcademy/PANDAS-TUTORIAL/main/DataSets/vgsalesGlobale.csv\n",
    "#Exercise\n",
    "Use the dataset of Game, we have explored earlier and perform following operations.\n",
    "\n",
    "* Calculate the total global sales for all games in the dataset.\n",
    "* Find the game with the highest global sales.\n",
    "* Determine the average sales for each region (NA_Sales, EU_Sales, JP_Sales, Other_Sales).\n",
    "* Find the top 5 most popular game genres based on global sales.\n",
    "* Calculate the total sales for each genre in each region and find the most popular genre in North America (NA_Sales).\n",
    "* Display last 10 rows.\n",
    "* Determine the top 3 gaming platforms with the highest global sales.\n",
    "* Calculate the market share (percentage of global sales) for each genre.\n",
    "* Calculate the correlation coefficient between NA_Sales and EU_Sales. (.corr function)"
   ]
  },
  {
   "cell_type": "markdown",
   "metadata": {
    "id": "b9WEL8JcZFfY"
   },
   "source": [
    "Some tree example"
   ]
  },
  {
   "cell_type": "code",
   "execution_count": 5,
   "metadata": {},
   "outputs": [
    {
     "data": {
      "text/html": [
       "<div>\n",
       "<style scoped>\n",
       "    .dataframe tbody tr th:only-of-type {\n",
       "        vertical-align: middle;\n",
       "    }\n",
       "\n",
       "    .dataframe tbody tr th {\n",
       "        vertical-align: top;\n",
       "    }\n",
       "\n",
       "    .dataframe thead th {\n",
       "        text-align: right;\n",
       "    }\n",
       "</style>\n",
       "<table border=\"1\" class=\"dataframe\">\n",
       "  <thead>\n",
       "    <tr style=\"text-align: right;\">\n",
       "      <th></th>\n",
       "      <th>Name</th>\n",
       "      <th>Platform</th>\n",
       "      <th>Year</th>\n",
       "      <th>Genre</th>\n",
       "      <th>Publisher</th>\n",
       "      <th>NA_Sales</th>\n",
       "      <th>EU_Sales</th>\n",
       "      <th>JP_Sales</th>\n",
       "      <th>Other_Sales</th>\n",
       "      <th>Global_Sales</th>\n",
       "    </tr>\n",
       "    <tr>\n",
       "      <th>Rank</th>\n",
       "      <th></th>\n",
       "      <th></th>\n",
       "      <th></th>\n",
       "      <th></th>\n",
       "      <th></th>\n",
       "      <th></th>\n",
       "      <th></th>\n",
       "      <th></th>\n",
       "      <th></th>\n",
       "      <th></th>\n",
       "    </tr>\n",
       "  </thead>\n",
       "  <tbody>\n",
       "    <tr>\n",
       "      <th>1</th>\n",
       "      <td>Wii Sports</td>\n",
       "      <td>Wii</td>\n",
       "      <td>2006.0</td>\n",
       "      <td>Sports</td>\n",
       "      <td>Nintendo</td>\n",
       "      <td>41.49</td>\n",
       "      <td>29.02</td>\n",
       "      <td>3.77</td>\n",
       "      <td>8.46</td>\n",
       "      <td>82.74</td>\n",
       "    </tr>\n",
       "    <tr>\n",
       "      <th>2</th>\n",
       "      <td>Super Mario Bros.</td>\n",
       "      <td>NES</td>\n",
       "      <td>1985.0</td>\n",
       "      <td>Platform</td>\n",
       "      <td>Nintendo</td>\n",
       "      <td>29.08</td>\n",
       "      <td>3.58</td>\n",
       "      <td>6.81</td>\n",
       "      <td>0.77</td>\n",
       "      <td>40.24</td>\n",
       "    </tr>\n",
       "    <tr>\n",
       "      <th>3</th>\n",
       "      <td>Mario Kart Wii</td>\n",
       "      <td>Wii</td>\n",
       "      <td>2008.0</td>\n",
       "      <td>Racing</td>\n",
       "      <td>Nintendo</td>\n",
       "      <td>15.85</td>\n",
       "      <td>12.88</td>\n",
       "      <td>3.79</td>\n",
       "      <td>3.31</td>\n",
       "      <td>35.82</td>\n",
       "    </tr>\n",
       "    <tr>\n",
       "      <th>4</th>\n",
       "      <td>Wii Sports Resort</td>\n",
       "      <td>Wii</td>\n",
       "      <td>2009.0</td>\n",
       "      <td>Sports</td>\n",
       "      <td>Nintendo</td>\n",
       "      <td>15.75</td>\n",
       "      <td>11.01</td>\n",
       "      <td>3.28</td>\n",
       "      <td>2.96</td>\n",
       "      <td>33.00</td>\n",
       "    </tr>\n",
       "    <tr>\n",
       "      <th>5</th>\n",
       "      <td>Pokemon Red/Pokemon Blue</td>\n",
       "      <td>GB</td>\n",
       "      <td>1996.0</td>\n",
       "      <td>Role-Playing</td>\n",
       "      <td>Nintendo</td>\n",
       "      <td>11.27</td>\n",
       "      <td>8.89</td>\n",
       "      <td>10.22</td>\n",
       "      <td>1.00</td>\n",
       "      <td>31.37</td>\n",
       "    </tr>\n",
       "    <tr>\n",
       "      <th>...</th>\n",
       "      <td>...</td>\n",
       "      <td>...</td>\n",
       "      <td>...</td>\n",
       "      <td>...</td>\n",
       "      <td>...</td>\n",
       "      <td>...</td>\n",
       "      <td>...</td>\n",
       "      <td>...</td>\n",
       "      <td>...</td>\n",
       "      <td>...</td>\n",
       "    </tr>\n",
       "    <tr>\n",
       "      <th>16596</th>\n",
       "      <td>Woody Woodpecker in Crazy Castle 5</td>\n",
       "      <td>GBA</td>\n",
       "      <td>2002.0</td>\n",
       "      <td>Platform</td>\n",
       "      <td>Kemco</td>\n",
       "      <td>0.01</td>\n",
       "      <td>0.00</td>\n",
       "      <td>0.00</td>\n",
       "      <td>0.00</td>\n",
       "      <td>0.01</td>\n",
       "    </tr>\n",
       "    <tr>\n",
       "      <th>16597</th>\n",
       "      <td>Men in Black II: Alien Escape</td>\n",
       "      <td>GC</td>\n",
       "      <td>2003.0</td>\n",
       "      <td>Shooter</td>\n",
       "      <td>Infogrames</td>\n",
       "      <td>0.01</td>\n",
       "      <td>0.00</td>\n",
       "      <td>0.00</td>\n",
       "      <td>0.00</td>\n",
       "      <td>0.01</td>\n",
       "    </tr>\n",
       "    <tr>\n",
       "      <th>16598</th>\n",
       "      <td>SCORE International Baja 1000: The Official Game</td>\n",
       "      <td>PS2</td>\n",
       "      <td>2008.0</td>\n",
       "      <td>Racing</td>\n",
       "      <td>Activision</td>\n",
       "      <td>0.00</td>\n",
       "      <td>0.00</td>\n",
       "      <td>0.00</td>\n",
       "      <td>0.00</td>\n",
       "      <td>0.01</td>\n",
       "    </tr>\n",
       "    <tr>\n",
       "      <th>16599</th>\n",
       "      <td>Know How 2</td>\n",
       "      <td>DS</td>\n",
       "      <td>2010.0</td>\n",
       "      <td>Puzzle</td>\n",
       "      <td>7G//AMES</td>\n",
       "      <td>0.00</td>\n",
       "      <td>0.01</td>\n",
       "      <td>0.00</td>\n",
       "      <td>0.00</td>\n",
       "      <td>0.01</td>\n",
       "    </tr>\n",
       "    <tr>\n",
       "      <th>16600</th>\n",
       "      <td>Spirits &amp; Spells</td>\n",
       "      <td>GBA</td>\n",
       "      <td>2003.0</td>\n",
       "      <td>Platform</td>\n",
       "      <td>Wanadoo</td>\n",
       "      <td>0.01</td>\n",
       "      <td>0.00</td>\n",
       "      <td>0.00</td>\n",
       "      <td>0.00</td>\n",
       "      <td>0.01</td>\n",
       "    </tr>\n",
       "  </tbody>\n",
       "</table>\n",
       "<p>16598 rows × 10 columns</p>\n",
       "</div>"
      ],
      "text/plain": [
       "                                                   Name Platform    Year  \\\n",
       "Rank                                                                       \n",
       "1                                            Wii Sports      Wii  2006.0   \n",
       "2                                     Super Mario Bros.      NES  1985.0   \n",
       "3                                        Mario Kart Wii      Wii  2008.0   \n",
       "4                                     Wii Sports Resort      Wii  2009.0   \n",
       "5                              Pokemon Red/Pokemon Blue       GB  1996.0   \n",
       "...                                                 ...      ...     ...   \n",
       "16596                Woody Woodpecker in Crazy Castle 5      GBA  2002.0   \n",
       "16597                     Men in Black II: Alien Escape       GC  2003.0   \n",
       "16598  SCORE International Baja 1000: The Official Game      PS2  2008.0   \n",
       "16599                                        Know How 2       DS  2010.0   \n",
       "16600                                  Spirits & Spells      GBA  2003.0   \n",
       "\n",
       "              Genre   Publisher  NA_Sales  EU_Sales  JP_Sales  Other_Sales  \\\n",
       "Rank                                                                         \n",
       "1            Sports    Nintendo     41.49     29.02      3.77         8.46   \n",
       "2          Platform    Nintendo     29.08      3.58      6.81         0.77   \n",
       "3            Racing    Nintendo     15.85     12.88      3.79         3.31   \n",
       "4            Sports    Nintendo     15.75     11.01      3.28         2.96   \n",
       "5      Role-Playing    Nintendo     11.27      8.89     10.22         1.00   \n",
       "...             ...         ...       ...       ...       ...          ...   \n",
       "16596      Platform       Kemco      0.01      0.00      0.00         0.00   \n",
       "16597       Shooter  Infogrames      0.01      0.00      0.00         0.00   \n",
       "16598        Racing  Activision      0.00      0.00      0.00         0.00   \n",
       "16599        Puzzle    7G//AMES      0.00      0.01      0.00         0.00   \n",
       "16600      Platform     Wanadoo      0.01      0.00      0.00         0.00   \n",
       "\n",
       "       Global_Sales  \n",
       "Rank                 \n",
       "1             82.74  \n",
       "2             40.24  \n",
       "3             35.82  \n",
       "4             33.00  \n",
       "5             31.37  \n",
       "...             ...  \n",
       "16596          0.01  \n",
       "16597          0.01  \n",
       "16598          0.01  \n",
       "16599          0.01  \n",
       "16600          0.01  \n",
       "\n",
       "[16598 rows x 10 columns]"
      ]
     },
     "execution_count": 5,
     "metadata": {},
     "output_type": "execute_result"
    }
   ],
   "source": [
    "import pandas as pd\n",
    "data=pd.read_csv('https://raw.githubusercontent.com/TirendazAcademy/PANDAS-TUTORIAL/main/DataSets/vgsalesGlobale.csv',sep=',',index_col='Rank')\n",
    "data"
   ]
  },
  {
   "cell_type": "code",
   "execution_count": 6,
   "metadata": {},
   "outputs": [
    {
     "name": "stdout",
     "output_type": "stream",
     "text": [
      "The total global sales are:  8920.44\n"
     ]
    }
   ],
   "source": [
    "print(\"The total global sales are: \",data['Global_Sales'].sum())"
   ]
  },
  {
   "cell_type": "code",
   "execution_count": 7,
   "metadata": {},
   "outputs": [
    {
     "name": "stdout",
     "output_type": "stream",
     "text": [
      "Game with highest global sale:  Wii Sports\n",
      "Highest sale:  82.74\n"
     ]
    }
   ],
   "source": [
    "maximum =data.loc[data['Global_Sales'].idxmax()]\n",
    "print(\"Game with highest global sale: \",maximum['Name'])\n",
    "print(\"Highest sale: \",data['Global_Sales'].max())"
   ]
  },
  {
   "cell_type": "code",
   "execution_count": 8,
   "metadata": {},
   "outputs": [
    {
     "name": "stdout",
     "output_type": "stream",
     "text": [
      "Average sales for NA_Sales is:  0.26466742981082064\n",
      "Average sales for EU_Sales is:  0.14665200626581515\n",
      "Average sales for JP_Sales is:  0.077781660441017\n",
      "Average sales for Other_Sales is:  0.0480630196409206\n"
     ]
    }
   ],
   "source": [
    "print(\"Average sales for NA_Sales is: \",data['NA_Sales'].mean())\n",
    "print(\"Average sales for EU_Sales is: \",data['EU_Sales'].mean())\n",
    "print(\"Average sales for JP_Sales is: \",data['JP_Sales'].mean())\n",
    "print(\"Average sales for Other_Sales is: \",data['Other_Sales'].mean())"
   ]
  },
  {
   "cell_type": "code",
   "execution_count": 9,
   "metadata": {},
   "outputs": [
    {
     "name": "stdout",
     "output_type": "stream",
     "text": [
      "top 5 most popular game genres based on global sales: Genre\n",
      "Action          1751.18\n",
      "Sports          1330.93\n",
      "Shooter         1037.37\n",
      "Role-Playing     927.37\n",
      "Platform         831.37\n",
      "Name: Global_Sales, dtype: float64\n"
     ]
    }
   ],
   "source": [
    "All_GlobalSales_Genres = data.groupby('Genre')['Global_Sales'].sum()\n",
    "Top_Five = All_GlobalSales_Genres.nlargest(5)\n",
    "print(\"top 5 most popular game genres based on global sales:\",Top_Five)"
   ]
  },
  {
   "cell_type": "code",
   "execution_count": 10,
   "metadata": {},
   "outputs": [
    {
     "name": "stdout",
     "output_type": "stream",
     "text": [
      "Average sales for NA_Sales is:  0.26466742981082064\n",
      "Average sales for EU_Sales is:  0.14665200626581515\n",
      "Average sales for JP_Sales is:  0.077781660441017\n",
      "Average sales for Other_Sales is:  0.0480630196409206\n",
      "Most popular genre in North America (NA_Sales):  Genre\n",
      "Action    877.83\n",
      "Name: NA_Sales, dtype: float64\n"
     ]
    }
   ],
   "source": [
    "print(\"Average sales for NA_Sales is: \",data['NA_Sales'].mean())\n",
    "print(\"Average sales for EU_Sales is: \",data['EU_Sales'].mean())\n",
    "print(\"Average sales for JP_Sales is: \",data['JP_Sales'].mean())\n",
    "print(\"Average sales for Other_Sales is: \",data['Other_Sales'].mean())\n",
    "#now calculating for top genre in NA_Sales\n",
    "getting_NA_Genres = data.groupby('Genre')['NA_Sales'].sum()\n",
    "top = getting_NA_Genres.nlargest(1)\n",
    "print(\"Most popular genre in North America (NA_Sales): \",top)"
   ]
  },
  {
   "cell_type": "code",
   "execution_count": 11,
   "metadata": {},
   "outputs": [
    {
     "data": {
      "text/html": [
       "<div>\n",
       "<style scoped>\n",
       "    .dataframe tbody tr th:only-of-type {\n",
       "        vertical-align: middle;\n",
       "    }\n",
       "\n",
       "    .dataframe tbody tr th {\n",
       "        vertical-align: top;\n",
       "    }\n",
       "\n",
       "    .dataframe thead th {\n",
       "        text-align: right;\n",
       "    }\n",
       "</style>\n",
       "<table border=\"1\" class=\"dataframe\">\n",
       "  <thead>\n",
       "    <tr style=\"text-align: right;\">\n",
       "      <th></th>\n",
       "      <th>Name</th>\n",
       "      <th>Platform</th>\n",
       "      <th>Year</th>\n",
       "      <th>Genre</th>\n",
       "      <th>Publisher</th>\n",
       "      <th>NA_Sales</th>\n",
       "      <th>EU_Sales</th>\n",
       "      <th>JP_Sales</th>\n",
       "      <th>Other_Sales</th>\n",
       "      <th>Global_Sales</th>\n",
       "    </tr>\n",
       "    <tr>\n",
       "      <th>Rank</th>\n",
       "      <th></th>\n",
       "      <th></th>\n",
       "      <th></th>\n",
       "      <th></th>\n",
       "      <th></th>\n",
       "      <th></th>\n",
       "      <th></th>\n",
       "      <th></th>\n",
       "      <th></th>\n",
       "      <th></th>\n",
       "    </tr>\n",
       "  </thead>\n",
       "  <tbody>\n",
       "    <tr>\n",
       "      <th>16591</th>\n",
       "      <td>Mega Brain Boost</td>\n",
       "      <td>DS</td>\n",
       "      <td>2008.0</td>\n",
       "      <td>Puzzle</td>\n",
       "      <td>Majesco Entertainment</td>\n",
       "      <td>0.01</td>\n",
       "      <td>0.00</td>\n",
       "      <td>0.00</td>\n",
       "      <td>0.0</td>\n",
       "      <td>0.01</td>\n",
       "    </tr>\n",
       "    <tr>\n",
       "      <th>16592</th>\n",
       "      <td>Chou Ezaru wa Akai Hana: Koi wa Tsuki ni Shiru...</td>\n",
       "      <td>PSV</td>\n",
       "      <td>2016.0</td>\n",
       "      <td>Action</td>\n",
       "      <td>dramatic create</td>\n",
       "      <td>0.00</td>\n",
       "      <td>0.00</td>\n",
       "      <td>0.01</td>\n",
       "      <td>0.0</td>\n",
       "      <td>0.01</td>\n",
       "    </tr>\n",
       "    <tr>\n",
       "      <th>16593</th>\n",
       "      <td>Eiyuu Densetsu: Sora no Kiseki Material Collec...</td>\n",
       "      <td>PSP</td>\n",
       "      <td>2007.0</td>\n",
       "      <td>Role-Playing</td>\n",
       "      <td>Falcom Corporation</td>\n",
       "      <td>0.00</td>\n",
       "      <td>0.00</td>\n",
       "      <td>0.01</td>\n",
       "      <td>0.0</td>\n",
       "      <td>0.01</td>\n",
       "    </tr>\n",
       "    <tr>\n",
       "      <th>16594</th>\n",
       "      <td>Myst IV: Revelation</td>\n",
       "      <td>PC</td>\n",
       "      <td>2004.0</td>\n",
       "      <td>Adventure</td>\n",
       "      <td>Ubisoft</td>\n",
       "      <td>0.01</td>\n",
       "      <td>0.00</td>\n",
       "      <td>0.00</td>\n",
       "      <td>0.0</td>\n",
       "      <td>0.01</td>\n",
       "    </tr>\n",
       "    <tr>\n",
       "      <th>16595</th>\n",
       "      <td>Plushees</td>\n",
       "      <td>DS</td>\n",
       "      <td>2008.0</td>\n",
       "      <td>Simulation</td>\n",
       "      <td>Destineer</td>\n",
       "      <td>0.01</td>\n",
       "      <td>0.00</td>\n",
       "      <td>0.00</td>\n",
       "      <td>0.0</td>\n",
       "      <td>0.01</td>\n",
       "    </tr>\n",
       "    <tr>\n",
       "      <th>16596</th>\n",
       "      <td>Woody Woodpecker in Crazy Castle 5</td>\n",
       "      <td>GBA</td>\n",
       "      <td>2002.0</td>\n",
       "      <td>Platform</td>\n",
       "      <td>Kemco</td>\n",
       "      <td>0.01</td>\n",
       "      <td>0.00</td>\n",
       "      <td>0.00</td>\n",
       "      <td>0.0</td>\n",
       "      <td>0.01</td>\n",
       "    </tr>\n",
       "    <tr>\n",
       "      <th>16597</th>\n",
       "      <td>Men in Black II: Alien Escape</td>\n",
       "      <td>GC</td>\n",
       "      <td>2003.0</td>\n",
       "      <td>Shooter</td>\n",
       "      <td>Infogrames</td>\n",
       "      <td>0.01</td>\n",
       "      <td>0.00</td>\n",
       "      <td>0.00</td>\n",
       "      <td>0.0</td>\n",
       "      <td>0.01</td>\n",
       "    </tr>\n",
       "    <tr>\n",
       "      <th>16598</th>\n",
       "      <td>SCORE International Baja 1000: The Official Game</td>\n",
       "      <td>PS2</td>\n",
       "      <td>2008.0</td>\n",
       "      <td>Racing</td>\n",
       "      <td>Activision</td>\n",
       "      <td>0.00</td>\n",
       "      <td>0.00</td>\n",
       "      <td>0.00</td>\n",
       "      <td>0.0</td>\n",
       "      <td>0.01</td>\n",
       "    </tr>\n",
       "    <tr>\n",
       "      <th>16599</th>\n",
       "      <td>Know How 2</td>\n",
       "      <td>DS</td>\n",
       "      <td>2010.0</td>\n",
       "      <td>Puzzle</td>\n",
       "      <td>7G//AMES</td>\n",
       "      <td>0.00</td>\n",
       "      <td>0.01</td>\n",
       "      <td>0.00</td>\n",
       "      <td>0.0</td>\n",
       "      <td>0.01</td>\n",
       "    </tr>\n",
       "    <tr>\n",
       "      <th>16600</th>\n",
       "      <td>Spirits &amp; Spells</td>\n",
       "      <td>GBA</td>\n",
       "      <td>2003.0</td>\n",
       "      <td>Platform</td>\n",
       "      <td>Wanadoo</td>\n",
       "      <td>0.01</td>\n",
       "      <td>0.00</td>\n",
       "      <td>0.00</td>\n",
       "      <td>0.0</td>\n",
       "      <td>0.01</td>\n",
       "    </tr>\n",
       "  </tbody>\n",
       "</table>\n",
       "</div>"
      ],
      "text/plain": [
       "                                                    Name Platform    Year  \\\n",
       "Rank                                                                        \n",
       "16591                                   Mega Brain Boost       DS  2008.0   \n",
       "16592  Chou Ezaru wa Akai Hana: Koi wa Tsuki ni Shiru...      PSV  2016.0   \n",
       "16593  Eiyuu Densetsu: Sora no Kiseki Material Collec...      PSP  2007.0   \n",
       "16594                                Myst IV: Revelation       PC  2004.0   \n",
       "16595                                           Plushees       DS  2008.0   \n",
       "16596                 Woody Woodpecker in Crazy Castle 5      GBA  2002.0   \n",
       "16597                      Men in Black II: Alien Escape       GC  2003.0   \n",
       "16598   SCORE International Baja 1000: The Official Game      PS2  2008.0   \n",
       "16599                                         Know How 2       DS  2010.0   \n",
       "16600                                   Spirits & Spells      GBA  2003.0   \n",
       "\n",
       "              Genre              Publisher  NA_Sales  EU_Sales  JP_Sales  \\\n",
       "Rank                                                                       \n",
       "16591        Puzzle  Majesco Entertainment      0.01      0.00      0.00   \n",
       "16592        Action        dramatic create      0.00      0.00      0.01   \n",
       "16593  Role-Playing     Falcom Corporation      0.00      0.00      0.01   \n",
       "16594     Adventure                Ubisoft      0.01      0.00      0.00   \n",
       "16595    Simulation              Destineer      0.01      0.00      0.00   \n",
       "16596      Platform                  Kemco      0.01      0.00      0.00   \n",
       "16597       Shooter             Infogrames      0.01      0.00      0.00   \n",
       "16598        Racing             Activision      0.00      0.00      0.00   \n",
       "16599        Puzzle               7G//AMES      0.00      0.01      0.00   \n",
       "16600      Platform                Wanadoo      0.01      0.00      0.00   \n",
       "\n",
       "       Other_Sales  Global_Sales  \n",
       "Rank                              \n",
       "16591          0.0          0.01  \n",
       "16592          0.0          0.01  \n",
       "16593          0.0          0.01  \n",
       "16594          0.0          0.01  \n",
       "16595          0.0          0.01  \n",
       "16596          0.0          0.01  \n",
       "16597          0.0          0.01  \n",
       "16598          0.0          0.01  \n",
       "16599          0.0          0.01  \n",
       "16600          0.0          0.01  "
      ]
     },
     "execution_count": 11,
     "metadata": {},
     "output_type": "execute_result"
    }
   ],
   "source": [
    "data.tail(10)"
   ]
  },
  {
   "cell_type": "code",
   "execution_count": 12,
   "metadata": {},
   "outputs": [
    {
     "name": "stdout",
     "output_type": "stream",
     "text": [
      "Top 3 gaming platforms with the highest global sales.:  Platform\n",
      "PS2     1255.64\n",
      "X360     979.96\n",
      "PS3      957.84\n",
      "Name: Global_Sales, dtype: float64\n"
     ]
    }
   ],
   "source": [
    "All_platforms = data.groupby('Platform')['Global_Sales'].sum()\n",
    "Top_three = All_platforms.nlargest(3)\n",
    "print(\"Top 3 gaming platforms with the highest global sales.: \",Top_three)"
   ]
  },
  {
   "cell_type": "code",
   "execution_count": 13,
   "metadata": {},
   "outputs": [
    {
     "name": "stdout",
     "output_type": "stream",
     "text": [
      "Market share (percentage of global sales) for each genre: \n",
      "Genre\n",
      "Action          19.631094\n",
      "Adventure        2.679688\n",
      "Fighting         5.032375\n",
      "Misc             9.079821\n",
      "Platform         9.319832\n",
      "Puzzle           2.745941\n",
      "Racing           8.206322\n",
      "Role-Playing    10.396012\n",
      "Shooter         11.629135\n",
      "Simulation       4.396644\n",
      "Sports          14.920004\n",
      "Strategy         1.963132\n",
      "Name: Global_Sales, dtype: float64\n"
     ]
    }
   ],
   "source": [
    "total_of_All_GlobalSales = data['Global_Sales'].sum()\n",
    "genre = data.groupby('Genre')['Global_Sales'].sum()\n",
    "share = (genre / total_of_All_GlobalSales)*100\n",
    "print(\"Market share (percentage of global sales) for each genre: \")\n",
    "print(share)"
   ]
  },
  {
   "cell_type": "code",
   "execution_count": null,
   "metadata": {},
   "outputs": [],
   "source": []
  },
  {
   "cell_type": "code",
   "execution_count": 3,
   "metadata": {
    "id": "re3_ijh12uCi"
   },
   "outputs": [],
   "source": [
    "# import pandas as pd\n",
    "\n",
    "# # Create a DataFrame to represent a tree\n",
    "# data = {\n",
    "#     'node': ['A', 'B', 'C', 'D', 'E', 'F'],\n",
    "#     'parent': [None, 'A', 'A', 'B', 'B', 'C']\n",
    "# }\n",
    "# df = pd.DataFrame(data)\n",
    "\n",
    "# print(df)\n"
   ]
  },
  {
   "cell_type": "code",
   "execution_count": 2,
   "metadata": {
    "id": "4eYXGm0c2yAl"
   },
   "outputs": [],
   "source": [
    "# pip install networkx\n"
   ]
  },
  {
   "cell_type": "code",
   "execution_count": 1,
   "metadata": {
    "id": "QBd8dZTF224G"
   },
   "outputs": [],
   "source": [
    "# import pandas as pd\n",
    "# import networkx as nx\n",
    "# import matplotlib.pyplot as plt\n",
    "\n",
    "# # Create a DataFrame representing edges in a graph\n",
    "# data = {\n",
    "#     'from': ['A', 'A', 'B', 'C', 'D'],\n",
    "#     'to': ['B', 'C', 'D', 'E', 'E']\n",
    "# }\n",
    "# edges = pd.DataFrame(data)\n",
    "\n",
    "# # Create a graph from the edges DataFrame\n",
    "# G = nx.from_pandas_edgelist(edges, 'from', 'to')\n",
    "\n",
    "# # Draw the graph\n",
    "# nx.draw(G, with_labels=True)\n",
    "# plt.show()\n",
    "\n",
    "# # Analyze the graph\n",
    "# print(\"Nodes:\", G.nodes())\n",
    "# print(\"Edges:\", G.edges())\n",
    "# print(\"Degree for each Node:\", dict(G.degree()))\n"
   ]
  }
 ],
 "metadata": {
  "colab": {
   "provenance": []
  },
  "kernelspec": {
   "display_name": "Python 3 (ipykernel)",
   "language": "python",
   "name": "python3"
  },
  "language_info": {
   "codemirror_mode": {
    "name": "ipython",
    "version": 3
   },
   "file_extension": ".py",
   "mimetype": "text/x-python",
   "name": "python",
   "nbconvert_exporter": "python",
   "pygments_lexer": "ipython3",
   "version": "3.11.5"
  }
 },
 "nbformat": 4,
 "nbformat_minor": 4
}
